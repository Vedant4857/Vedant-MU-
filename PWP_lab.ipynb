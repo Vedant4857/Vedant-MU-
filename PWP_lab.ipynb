{
  "nbformat": 4,
  "nbformat_minor": 0,
  "metadata": {
    "colab": {
      "provenance": [],
      "authorship_tag": "ABX9TyN+pFoEODPAOhNwa0O3aDRS",
      "include_colab_link": true
    },
    "kernelspec": {
      "name": "python3",
      "display_name": "Python 3"
    },
    "language_info": {
      "name": "python"
    }
  },
  "cells": [
    {
      "cell_type": "markdown",
      "metadata": {
        "id": "view-in-github",
        "colab_type": "text"
      },
      "source": [
        "<a href=\"https://colab.research.google.com/github/Vedant4857/Vedant-MU-/blob/main/PWP_lab.ipynb\" target=\"_parent\"><img src=\"https://colab.research.google.com/assets/colab-badge.svg\" alt=\"Open In Colab\"/></a>"
      ]
    },
    {
      "cell_type": "code",
      "source": [
        "# Practical 3 in PWP\n",
        "x = int(input(\"Enter the range for number:\"))\n",
        "print(\"Odd numbers between 0 and \",x)\n",
        "for i in range(0, x):\n",
        " if (i % 2 != 0):\n",
        "  print(i)\n",
        "print(\"Even numbers between 0 and \",x)\n",
        "for i in range(0, x):\n",
        " if (i % 2 == 0):\n",
        "  print(i)"
      ],
      "metadata": {
        "colab": {
          "base_uri": "https://localhost:8080/"
        },
        "id": "9b06feAcybMF",
        "outputId": "5e518b71-1dcc-4ded-b099-6a213cf61b40"
      },
      "execution_count": null,
      "outputs": [
        {
          "output_type": "stream",
          "name": "stdout",
          "text": [
            "Enter the range for number:5\n",
            "Odd numbers between 0 and  5\n",
            "1\n",
            "3\n",
            "Even numbers between 0 and  5\n",
            "0\n",
            "2\n",
            "4\n"
          ]
        }
      ]
    },
    {
      "cell_type": "code",
      "source": [
        "# Practical 4 in PWP\n",
        "str0 = input(\"Enter first name:\")\n",
        "str1 = input(\"Enter second name:\")\n",
        "string = str0 + \" \" + str1\n",
        "substring = string[2:5]\n",
        "print(string)\n",
        "print(substring)"
      ],
      "metadata": {
        "colab": {
          "base_uri": "https://localhost:8080/"
        },
        "id": "PK26oVO-yM9W",
        "outputId": "9e9e1d2b-7798-414a-a958-a762cf2b7975"
      },
      "execution_count": null,
      "outputs": [
        {
          "output_type": "stream",
          "name": "stdout",
          "text": [
            "Enter first name:Vedant\n",
            "Enter second name:Shekhar\n",
            "Vedant Shekhar\n",
            "dan\n"
          ]
        }
      ]
    },
    {
      "cell_type": "code",
      "execution_count": null,
      "metadata": {
        "colab": {
          "base_uri": "https://localhost:8080/"
        },
        "id": "V1Nl71NUw5MI",
        "outputId": "3c2d3e8e-ac96-4e7b-cff3-b49c9d0d8d9f"
      },
      "outputs": [
        {
          "output_type": "stream",
          "name": "stdout",
          "text": [
            "['Vedant', 10, '3EP1', 9157827489, 103]\n",
            "['Vedant', 10, '3EP1', 9157827489, 103, 'India']\n",
            "['Vedant', 10, '3EP1', 103, 'India']\n"
          ]
        }
      ],
      "source": [
        "# Practical 5 in PWP\n",
        "My_List = [\"Vedant\",10,\"3EP1\",9157827489,103]\n",
        "print(My_List)\n",
        "My_List.append(\"India\")\n",
        "print(My_List)\n",
        "My_List.remove(9157827489)\n",
        "print(My_List)"
      ]
    }
  ]
}